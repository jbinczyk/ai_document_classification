{
 "cells": [
  {
   "cell_type": "code",
   "execution_count": 1,
   "id": "6b6285b5",
   "metadata": {},
   "outputs": [],
   "source": [
    "import pandas as pd"
   ]
  },
  {
   "cell_type": "code",
   "execution_count": 27,
   "id": "e750d0be",
   "metadata": {},
   "outputs": [
    {
     "data": {
      "text/html": [
       "<div>\n",
       "<style scoped>\n",
       "    .dataframe tbody tr th:only-of-type {\n",
       "        vertical-align: middle;\n",
       "    }\n",
       "\n",
       "    .dataframe tbody tr th {\n",
       "        vertical-align: top;\n",
       "    }\n",
       "\n",
       "    .dataframe thead th {\n",
       "        text-align: right;\n",
       "    }\n",
       "</style>\n",
       "<table border=\"1\" class=\"dataframe\">\n",
       "  <thead>\n",
       "    <tr style=\"text-align: right;\">\n",
       "      <th></th>\n",
       "      <th>review</th>\n",
       "      <th>class</th>\n",
       "      <th>length_digits</th>\n",
       "      <th>review_split</th>\n",
       "      <th>length_words</th>\n",
       "    </tr>\n",
       "  </thead>\n",
       "  <tbody>\n",
       "    <tr>\n",
       "      <th>0</th>\n",
       "      <td>in my opinion , a movie reviewer's most import...</td>\n",
       "      <td>0</td>\n",
       "      <td>2684</td>\n",
       "      <td>[in, my, opinion, ,, a, movie, reviewer's, mos...</td>\n",
       "      <td>512</td>\n",
       "    </tr>\n",
       "    <tr>\n",
       "      <th>1</th>\n",
       "      <td>you can watch this movie , that is based on a ...</td>\n",
       "      <td>0</td>\n",
       "      <td>2203</td>\n",
       "      <td>[you, can, watch, this, movie, ,, that, is, ba...</td>\n",
       "      <td>452</td>\n",
       "    </tr>\n",
       "    <tr>\n",
       "      <th>2</th>\n",
       "      <td>this is asking a lot to believe , and though i...</td>\n",
       "      <td>0</td>\n",
       "      <td>1892</td>\n",
       "      <td>[this, is, asking, a, lot, to, believe, ,, and...</td>\n",
       "      <td>373</td>\n",
       "    </tr>\n",
       "    <tr>\n",
       "      <th>3</th>\n",
       "      <td>no heroes and no story are the main attributes...</td>\n",
       "      <td>0</td>\n",
       "      <td>1825</td>\n",
       "      <td>[no, heroes, and, no, story, are, the, main, a...</td>\n",
       "      <td>355</td>\n",
       "    </tr>\n",
       "    <tr>\n",
       "      <th>4</th>\n",
       "      <td>this is not an art movie , yet i saw it an art...</td>\n",
       "      <td>0</td>\n",
       "      <td>3570</td>\n",
       "      <td>[this, is, not, an, art, movie, ,, yet, i, saw...</td>\n",
       "      <td>739</td>\n",
       "    </tr>\n",
       "    <tr>\n",
       "      <th>...</th>\n",
       "      <td>...</td>\n",
       "      <td>...</td>\n",
       "      <td>...</td>\n",
       "      <td>...</td>\n",
       "      <td>...</td>\n",
       "    </tr>\n",
       "    <tr>\n",
       "      <th>1022</th>\n",
       "      <td>this neglected low-budget b/w noir film from t...</td>\n",
       "      <td>3</td>\n",
       "      <td>1097</td>\n",
       "      <td>[this, neglected, low-budget, b/w, noir, film,...</td>\n",
       "      <td>200</td>\n",
       "    </tr>\n",
       "    <tr>\n",
       "      <th>1023</th>\n",
       "      <td>since the film didn't have a director , the fi...</td>\n",
       "      <td>3</td>\n",
       "      <td>3453</td>\n",
       "      <td>[since, the, film, didn't, have, a, director, ...</td>\n",
       "      <td>650</td>\n",
       "    </tr>\n",
       "    <tr>\n",
       "      <th>1024</th>\n",
       "      <td>claire denis ( i can't sleep/nenette and boni/...</td>\n",
       "      <td>3</td>\n",
       "      <td>3740</td>\n",
       "      <td>[claire, denis, (, i, can't, sleep/nenette, an...</td>\n",
       "      <td>709</td>\n",
       "    </tr>\n",
       "    <tr>\n",
       "      <th>1025</th>\n",
       "      <td>the young kid doesn't know what to say . yang-...</td>\n",
       "      <td>3</td>\n",
       "      <td>1703</td>\n",
       "      <td>[the, young, kid, doesn't, know, what, to, say...</td>\n",
       "      <td>348</td>\n",
       "    </tr>\n",
       "    <tr>\n",
       "      <th>1026</th>\n",
       "      <td>the film's theme is about how women are made t...</td>\n",
       "      <td>3</td>\n",
       "      <td>2449</td>\n",
       "      <td>[the, film's, theme, is, about, how, women, ar...</td>\n",
       "      <td>445</td>\n",
       "    </tr>\n",
       "  </tbody>\n",
       "</table>\n",
       "<p>1027 rows × 5 columns</p>\n",
       "</div>"
      ],
      "text/plain": [
       "                                                 review  class  length_digits  \\\n",
       "0     in my opinion , a movie reviewer's most import...      0           2684   \n",
       "1     you can watch this movie , that is based on a ...      0           2203   \n",
       "2     this is asking a lot to believe , and though i...      0           1892   \n",
       "3     no heroes and no story are the main attributes...      0           1825   \n",
       "4     this is not an art movie , yet i saw it an art...      0           3570   \n",
       "...                                                 ...    ...            ...   \n",
       "1022  this neglected low-budget b/w noir film from t...      3           1097   \n",
       "1023  since the film didn't have a director , the fi...      3           3453   \n",
       "1024  claire denis ( i can't sleep/nenette and boni/...      3           3740   \n",
       "1025  the young kid doesn't know what to say . yang-...      3           1703   \n",
       "1026  the film's theme is about how women are made t...      3           2449   \n",
       "\n",
       "                                           review_split  length_words  \n",
       "0     [in, my, opinion, ,, a, movie, reviewer's, mos...           512  \n",
       "1     [you, can, watch, this, movie, ,, that, is, ba...           452  \n",
       "2     [this, is, asking, a, lot, to, believe, ,, and...           373  \n",
       "3     [no, heroes, and, no, story, are, the, main, a...           355  \n",
       "4     [this, is, not, an, art, movie, ,, yet, i, saw...           739  \n",
       "...                                                 ...           ...  \n",
       "1022  [this, neglected, low-budget, b/w, noir, film,...           200  \n",
       "1023  [since, the, film, didn't, have, a, director, ...           650  \n",
       "1024  [claire, denis, (, i, can't, sleep/nenette, an...           709  \n",
       "1025  [the, young, kid, doesn't, know, what, to, say...           348  \n",
       "1026  [the, film's, theme, is, about, how, women, ar...           445  \n",
       "\n",
       "[1027 rows x 5 columns]"
      ]
     },
     "execution_count": 27,
     "metadata": {},
     "output_type": "execute_result"
    },
    {
     "data": {
      "image/png": "[encoded data removed]",
      "text/plain": [
       "<Figure size 432x288 with 1 Axes>"
      ]
     },
     "metadata": {
      "needs_background": "light"
     },
     "output_type": "display_data"
    }
   ],
   "source": [
    "reviews = pd.read_csv(r\"data_reviews/scaledata/Dennis+Schwartz/subj.Dennis+Schwartz\",\n",
    "                      delimiter = \"\\n\",\n",
    "                      header=None)\n",
    "    \n",
    "df = pd.read_csv(r\"data_reviews/scaledata/Dennis+Schwartz/label.4class.Dennis+Schwartz\",\n",
    "                 delimiter = \"\\n\",\n",
    "                 header=None)\n",
    "\n",
    "\n",
    "reviews_data = pd.concat([reviews, df], axis=1)\n",
    "reviews_data.columns = ['review','class']\n",
    "reviews_data['class'].hist()\n",
    "reviews_data['length_digits']=reviews_data['review'].apply(len)\n",
    "reviews_data['review_split']=reviews_data['review'].str.split()\n",
    "reviews_data['length_words']=reviews_data['review_split'].apply(len)\n",
    "reviews_data"
   ]
  },
  {
   "cell_type": "code",
   "execution_count": 26,
   "id": "7c572e5a",
   "metadata": {},
   "outputs": [
    {
     "data": {
      "text/plain": [
       "<AxesSubplot:>"
      ]
     },
     "execution_count": 26,
     "metadata": {},
     "output_type": "execute_result"
    },
    {
     "data": {
      "image/png": "[encoded data removed]",
      "text/plain": [
       "<Figure size 432x288 with 1 Axes>"
      ]
     },
     "metadata": {
      "needs_background": "light"
     },
     "output_type": "display_data"
    }
   ],
   "source": [
    "reviews_data['length_words'].hist()"
   ]
  },
  {
   "cell_type": "code",
   "execution_count": 31,
   "id": "eca0369a",
   "metadata": {},
   "outputs": [
    {
     "data": {
      "text/plain": [
       "[('the', 18156),\n",
       " (',', 17535),\n",
       " ('.', 11344),\n",
       " ('a', 8940),\n",
       " ('and', 8098),\n",
       " ('to', 8047),\n",
       " ('of', 7425),\n",
       " ('is', 7081),\n",
       " ('it', 5710),\n",
       " ('film', 5495),\n",
       " ('in', 5178),\n",
       " ('that', 5177),\n",
       " ('this', 3670),\n",
       " ('as', 3588),\n",
       " ('for', 2934),\n",
       " ('was', 2750),\n",
       " ('with', 2287),\n",
       " ('but', 2230),\n",
       " ('be', 2195),\n",
       " ('its', 1710)]"
      ]
     },
     "execution_count": 31,
     "metadata": {},
     "output_type": "execute_result"
    }
   ],
   "source": [
    "from collections import Counter\n",
    "\n",
    "counter = Counter()\n",
    "for word_list in reviews_data['review_split']:\n",
    "    counter.update(word_list)\n",
    "    \n",
    "counter.most_common(20)"
   ]
  },
  {
   "cell_type": "code",
   "execution_count": null,
   "id": "46bd7f71",
   "metadata": {},
   "outputs": [],
   "source": []
  }
 ],
 "metadata": {
  "kernelspec": {
   "display_name": "Python 3",
   "language": "python",
   "name": "python3"
  },
  "language_info": {
   "codemirror_mode": {
    "name": "ipython",
    "version": 3
   },
   "file_extension": ".py",
   "mimetype": "text/x-python",
   "name": "python",
   "nbconvert_exporter": "python",
   "pygments_lexer": "ipython3",
   "version": "3.9.5"
  }
 },
 "nbformat": 4,
 "nbformat_minor": 5
}
